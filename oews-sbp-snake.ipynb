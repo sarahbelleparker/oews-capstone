{
 "cells": [
  {
   "cell_type": "code",
   "execution_count": 1,
   "id": "e13a6247",
   "metadata": {},
   "outputs": [],
   "source": [
    "import pandas as pd\n",
    "import numpy as np\n",
    "import matplotlib.pyplot as plt\n",
    "import seaborn as sns"
   ]
  },
  {
   "cell_type": "code",
   "execution_count": 2,
   "id": "56d6fa74",
   "metadata": {},
   "outputs": [],
   "source": [
    "oews_ca = pd.read_csv('data/oews-california.csv')"
   ]
  },
  {
   "cell_type": "code",
   "execution_count": 3,
   "id": "ef6e45ba",
   "metadata": {},
   "outputs": [],
   "source": [
    "oews_ny = pd.read_csv('data/oews-newyork.csv')"
   ]
  },
  {
   "cell_type": "code",
   "execution_count": 4,
   "id": "d9b2f178",
   "metadata": {},
   "outputs": [],
   "source": [
    "oews_wa = pd.read_csv('data/oews-washington.csv')"
   ]
  },
  {
   "cell_type": "code",
   "execution_count": 5,
   "id": "30dab857",
   "metadata": {
    "scrolled": true
   },
   "outputs": [
    {
     "data": {
      "text/html": [
       "<div>\n",
       "<style scoped>\n",
       "    .dataframe tbody tr th:only-of-type {\n",
       "        vertical-align: middle;\n",
       "    }\n",
       "\n",
       "    .dataframe tbody tr th {\n",
       "        vertical-align: top;\n",
       "    }\n",
       "\n",
       "    .dataframe thead th {\n",
       "        text-align: right;\n",
       "    }\n",
       "</style>\n",
       "<table border=\"1\" class=\"dataframe\">\n",
       "  <thead>\n",
       "    <tr style=\"text-align: right;\">\n",
       "      <th></th>\n",
       "      <th>Area Type</th>\n",
       "      <th>Area Name</th>\n",
       "      <th>Year</th>\n",
       "      <th>Quarter</th>\n",
       "      <th>Industry Name</th>\n",
       "      <th>Standard Occupational Code</th>\n",
       "      <th>Occupational Title</th>\n",
       "      <th>Wage Type</th>\n",
       "      <th>Number of Employed</th>\n",
       "      <th>Mean Wage</th>\n",
       "      <th>10th Percentile Wage</th>\n",
       "      <th>25th Percentile Wage</th>\n",
       "      <th>50th Percentile (Median) Wage</th>\n",
       "      <th>75th Percentile Wage</th>\n",
       "      <th>90th Percentile Wage</th>\n",
       "      <th>Mean Relative Standard Error for Wage</th>\n",
       "    </tr>\n",
       "  </thead>\n",
       "  <tbody>\n",
       "    <tr>\n",
       "      <th>0</th>\n",
       "      <td>Metropolitan Area</td>\n",
       "      <td>Anaheim-Santa Ana-Irvine MD</td>\n",
       "      <td>2009</td>\n",
       "      <td>1st Qtr</td>\n",
       "      <td>Total, All Industries</td>\n",
       "      <td>0</td>\n",
       "      <td>Total, All Occupations</td>\n",
       "      <td>Hourly wage</td>\n",
       "      <td>1525490.0</td>\n",
       "      <td>23.25</td>\n",
       "      <td>8.85</td>\n",
       "      <td>11.14</td>\n",
       "      <td>17.56</td>\n",
       "      <td>29.12</td>\n",
       "      <td>44.67</td>\n",
       "      <td>0.84</td>\n",
       "    </tr>\n",
       "    <tr>\n",
       "      <th>1</th>\n",
       "      <td>Metropolitan Area</td>\n",
       "      <td>Anaheim-Santa Ana-Irvine MD</td>\n",
       "      <td>2009</td>\n",
       "      <td>1st Qtr</td>\n",
       "      <td>Total, All Industries</td>\n",
       "      <td>0</td>\n",
       "      <td>Total, All Occupations</td>\n",
       "      <td>Annual wage or salary</td>\n",
       "      <td>1525490.0</td>\n",
       "      <td>48348.46</td>\n",
       "      <td>18403.65</td>\n",
       "      <td>23180.56</td>\n",
       "      <td>36541.93</td>\n",
       "      <td>60582.45</td>\n",
       "      <td>92903.56</td>\n",
       "      <td>0.84</td>\n",
       "    </tr>\n",
       "    <tr>\n",
       "      <th>2</th>\n",
       "      <td>Metropolitan Area</td>\n",
       "      <td>Anaheim-Santa Ana-Irvine MD</td>\n",
       "      <td>2009</td>\n",
       "      <td>1st Qtr</td>\n",
       "      <td>Total, All Industries</td>\n",
       "      <td>11-0000</td>\n",
       "      <td>Management Occupations</td>\n",
       "      <td>Hourly wage</td>\n",
       "      <td>91260.0</td>\n",
       "      <td>56.62</td>\n",
       "      <td>24.04</td>\n",
       "      <td>34.48</td>\n",
       "      <td>50.61</td>\n",
       "      <td>72.58</td>\n",
       "      <td>0.00</td>\n",
       "      <td>0.80</td>\n",
       "    </tr>\n",
       "    <tr>\n",
       "      <th>3</th>\n",
       "      <td>Metropolitan Area</td>\n",
       "      <td>Anaheim-Santa Ana-Irvine MD</td>\n",
       "      <td>2009</td>\n",
       "      <td>1st Qtr</td>\n",
       "      <td>Total, All Industries</td>\n",
       "      <td>11-0000</td>\n",
       "      <td>Management Occupations</td>\n",
       "      <td>Annual wage or salary</td>\n",
       "      <td>91260.0</td>\n",
       "      <td>117759.92</td>\n",
       "      <td>50006.38</td>\n",
       "      <td>71712.20</td>\n",
       "      <td>105266.68</td>\n",
       "      <td>150957.19</td>\n",
       "      <td>0.00</td>\n",
       "      <td>0.80</td>\n",
       "    </tr>\n",
       "    <tr>\n",
       "      <th>4</th>\n",
       "      <td>Metropolitan Area</td>\n",
       "      <td>Anaheim-Santa Ana-Irvine MD</td>\n",
       "      <td>2009</td>\n",
       "      <td>1st Qtr</td>\n",
       "      <td>Total, All Industries</td>\n",
       "      <td>11-1011</td>\n",
       "      <td>Chief Executives</td>\n",
       "      <td>Hourly wage</td>\n",
       "      <td>3640.0</td>\n",
       "      <td>0.00</td>\n",
       "      <td>62.22</td>\n",
       "      <td>0.00</td>\n",
       "      <td>0.00</td>\n",
       "      <td>0.00</td>\n",
       "      <td>0.00</td>\n",
       "      <td>1.65</td>\n",
       "    </tr>\n",
       "  </tbody>\n",
       "</table>\n",
       "</div>"
      ],
      "text/plain": [
       "           Area Type                    Area Name  Year  Quarter  \\\n",
       "0  Metropolitan Area  Anaheim-Santa Ana-Irvine MD  2009  1st Qtr   \n",
       "1  Metropolitan Area  Anaheim-Santa Ana-Irvine MD  2009  1st Qtr   \n",
       "2  Metropolitan Area  Anaheim-Santa Ana-Irvine MD  2009  1st Qtr   \n",
       "3  Metropolitan Area  Anaheim-Santa Ana-Irvine MD  2009  1st Qtr   \n",
       "4  Metropolitan Area  Anaheim-Santa Ana-Irvine MD  2009  1st Qtr   \n",
       "\n",
       "           Industry Name Standard Occupational Code      Occupational Title  \\\n",
       "0  Total, All Industries                          0  Total, All Occupations   \n",
       "1  Total, All Industries                          0  Total, All Occupations   \n",
       "2  Total, All Industries                    11-0000  Management Occupations   \n",
       "3  Total, All Industries                    11-0000  Management Occupations   \n",
       "4  Total, All Industries                    11-1011        Chief Executives   \n",
       "\n",
       "               Wage Type  Number of Employed  Mean Wage  10th Percentile Wage  \\\n",
       "0            Hourly wage           1525490.0      23.25                  8.85   \n",
       "1  Annual wage or salary           1525490.0   48348.46              18403.65   \n",
       "2            Hourly wage             91260.0      56.62                 24.04   \n",
       "3  Annual wage or salary             91260.0  117759.92              50006.38   \n",
       "4            Hourly wage              3640.0       0.00                 62.22   \n",
       "\n",
       "   25th Percentile Wage  50th Percentile (Median) Wage  75th Percentile Wage  \\\n",
       "0                 11.14                          17.56                 29.12   \n",
       "1              23180.56                       36541.93              60582.45   \n",
       "2                 34.48                          50.61                 72.58   \n",
       "3              71712.20                      105266.68             150957.19   \n",
       "4                  0.00                           0.00                  0.00   \n",
       "\n",
       "   90th Percentile Wage  Mean Relative Standard Error for Wage  \n",
       "0                 44.67                                   0.84  \n",
       "1              92903.56                                   0.84  \n",
       "2                  0.00                                   0.80  \n",
       "3                  0.00                                   0.80  \n",
       "4                  0.00                                   1.65  "
      ]
     },
     "execution_count": 5,
     "metadata": {},
     "output_type": "execute_result"
    }
   ],
   "source": [
    "oews_ca.head()"
   ]
  },
  {
   "cell_type": "code",
   "execution_count": 6,
   "id": "e7622f24",
   "metadata": {},
   "outputs": [
    {
     "name": "stdout",
     "output_type": "stream",
     "text": [
      "<class 'pandas.core.frame.DataFrame'>\n",
      "RangeIndex: 480978 entries, 0 to 480977\n",
      "Data columns (total 16 columns):\n",
      " #   Column                                 Non-Null Count   Dtype  \n",
      "---  ------                                 --------------   -----  \n",
      " 0   Area Type                              480978 non-null  object \n",
      " 1   Area Name                              480978 non-null  object \n",
      " 2   Year                                   480978 non-null  int64  \n",
      " 3   Quarter                                480978 non-null  object \n",
      " 4   Industry Name                          480978 non-null  object \n",
      " 5   Standard Occupational Code             480978 non-null  object \n",
      " 6   Occupational Title                     480956 non-null  object \n",
      " 7   Wage Type                              480978 non-null  object \n",
      " 8   Number of Employed                     466394 non-null  float64\n",
      " 9   Mean Wage                              474054 non-null  float64\n",
      " 10  10th Percentile Wage                   474068 non-null  float64\n",
      " 11  25th Percentile Wage                   473784 non-null  float64\n",
      " 12  50th Percentile (Median) Wage          472810 non-null  float64\n",
      " 13  75th Percentile Wage                   470977 non-null  float64\n",
      " 14  90th Percentile Wage                   466143 non-null  float64\n",
      " 15  Mean Relative Standard Error for Wage  478246 non-null  float64\n",
      "dtypes: float64(8), int64(1), object(7)\n",
      "memory usage: 58.7+ MB\n"
     ]
    }
   ],
   "source": [
    "oews_ca.info()"
   ]
  },
  {
   "cell_type": "code",
   "execution_count": 7,
   "id": "b4738d40",
   "metadata": {
    "scrolled": true
   },
   "outputs": [
    {
     "data": {
      "text/plain": [
       "(480978, 16)"
      ]
     },
     "execution_count": 7,
     "metadata": {},
     "output_type": "execute_result"
    }
   ],
   "source": [
    "oews_ca.shape"
   ]
  },
  {
   "cell_type": "code",
   "execution_count": 9,
   "id": "ee0f6e9f",
   "metadata": {},
   "outputs": [
    {
     "data": {
      "text/html": [
       "<div>\n",
       "<style scoped>\n",
       "    .dataframe tbody tr th:only-of-type {\n",
       "        vertical-align: middle;\n",
       "    }\n",
       "\n",
       "    .dataframe tbody tr th {\n",
       "        vertical-align: top;\n",
       "    }\n",
       "\n",
       "    .dataframe thead th {\n",
       "        text-align: right;\n",
       "    }\n",
       "</style>\n",
       "<table border=\"1\" class=\"dataframe\">\n",
       "  <thead>\n",
       "    <tr style=\"text-align: right;\">\n",
       "      <th></th>\n",
       "      <th>Area Type</th>\n",
       "      <th>Area</th>\n",
       "      <th>Area Name</th>\n",
       "      <th>Standard Occupational Code</th>\n",
       "      <th>Occupational Title</th>\n",
       "      <th>Employment</th>\n",
       "      <th>Mean Wage</th>\n",
       "      <th>Median Wage</th>\n",
       "      <th>Entry Wage</th>\n",
       "      <th>Experienced Wage</th>\n",
       "    </tr>\n",
       "  </thead>\n",
       "  <tbody>\n",
       "    <tr>\n",
       "      <th>0</th>\n",
       "      <td>1</td>\n",
       "      <td>36</td>\n",
       "      <td>New York State</td>\n",
       "      <td>00-0000</td>\n",
       "      <td>Total, All Occupations</td>\n",
       "      <td>9108930.0</td>\n",
       "      <td>77445</td>\n",
       "      <td>54276.0</td>\n",
       "      <td>34849</td>\n",
       "      <td>98743.0</td>\n",
       "    </tr>\n",
       "    <tr>\n",
       "      <th>1</th>\n",
       "      <td>1</td>\n",
       "      <td>36</td>\n",
       "      <td>New York State</td>\n",
       "      <td>11-0000</td>\n",
       "      <td>Management Occupations</td>\n",
       "      <td>567480.0</td>\n",
       "      <td>173530</td>\n",
       "      <td>142285.0</td>\n",
       "      <td>77836</td>\n",
       "      <td>221378.0</td>\n",
       "    </tr>\n",
       "    <tr>\n",
       "      <th>2</th>\n",
       "      <td>1</td>\n",
       "      <td>36</td>\n",
       "      <td>New York State</td>\n",
       "      <td>11-1011</td>\n",
       "      <td>Chief Executives</td>\n",
       "      <td>4910.0</td>\n",
       "      <td>330808</td>\n",
       "      <td>233777.0</td>\n",
       "      <td>126304</td>\n",
       "      <td>433060.0</td>\n",
       "    </tr>\n",
       "    <tr>\n",
       "      <th>3</th>\n",
       "      <td>1</td>\n",
       "      <td>36</td>\n",
       "      <td>New York State</td>\n",
       "      <td>11-1021</td>\n",
       "      <td>General and Operations Managers</td>\n",
       "      <td>212710.0</td>\n",
       "      <td>160384</td>\n",
       "      <td>126364.0</td>\n",
       "      <td>64477</td>\n",
       "      <td>208338.0</td>\n",
       "    </tr>\n",
       "    <tr>\n",
       "      <th>4</th>\n",
       "      <td>1</td>\n",
       "      <td>36</td>\n",
       "      <td>New York State</td>\n",
       "      <td>11-1031</td>\n",
       "      <td>Legislators</td>\n",
       "      <td>4530.0</td>\n",
       "      <td>110711</td>\n",
       "      <td>99645.0</td>\n",
       "      <td>50788</td>\n",
       "      <td>140674.0</td>\n",
       "    </tr>\n",
       "  </tbody>\n",
       "</table>\n",
       "</div>"
      ],
      "text/plain": [
       "   Area Type   Area       Area Name  Standard Occupational Code  \\\n",
       "0          1     36  New York State                     00-0000   \n",
       "1          1     36  New York State                     11-0000   \n",
       "2          1     36  New York State                     11-1011   \n",
       "3          1     36  New York State                     11-1021   \n",
       "4          1     36  New York State                     11-1031   \n",
       "\n",
       "                Occupational Title   Employment  Mean Wage   Median Wage  \\\n",
       "0           Total, All Occupations    9108930.0      77445       54276.0   \n",
       "1           Management Occupations     567480.0     173530      142285.0   \n",
       "2                 Chief Executives       4910.0     330808      233777.0   \n",
       "3  General and Operations Managers     212710.0     160384      126364.0   \n",
       "4                      Legislators       4530.0     110711       99645.0   \n",
       "\n",
       "    Entry Wage  \\\n",
       "0        34849   \n",
       "1        77836   \n",
       "2       126304   \n",
       "3        64477   \n",
       "4        50788   \n",
       "\n",
       "    Experienced Wage                                                                                                                                                                                                                                               \n",
       "0                                            98743.0                                                                                                                                                                                                               \n",
       "1                                           221378.0                                                                                                                                                                                                               \n",
       "2                                           433060.0                                                                                                                                                                                                               \n",
       "3                                           208338.0                                                                                                                                                                                                               \n",
       "4                                           140674.0                                                                                                                                                                                                               "
      ]
     },
     "execution_count": 9,
     "metadata": {},
     "output_type": "execute_result"
    }
   ],
   "source": [
    "oews_ny.head()"
   ]
  },
  {
   "cell_type": "code",
   "execution_count": 10,
   "id": "0aee666e",
   "metadata": {},
   "outputs": [
    {
     "name": "stdout",
     "output_type": "stream",
     "text": [
      "<class 'pandas.core.frame.DataFrame'>\n",
      "RangeIndex: 7010 entries, 0 to 7009\n",
      "Data columns (total 10 columns):\n",
      " #   Column                                                                                                                                                                                                                                                          Non-Null Count  Dtype  \n",
      "---  ------                                                                                                                                                                                                                                                          --------------  -----  \n",
      " 0   Area Type                                                                                                                                                                                                                                                       7010 non-null   int64  \n",
      " 1    Area                                                                                                                                                                                                                                                           7010 non-null   int64  \n",
      " 2    Area Name                                                                                                                                                                                                                                                      7010 non-null   object \n",
      " 3    Standard Occupational Code                                                                                                                                                                                                                                     7010 non-null   object \n",
      " 4    Occupational Title                                                                                                                                                                                                                                             7010 non-null   object \n",
      " 5    Employment                                                                                                                                                                                                                                                     5441 non-null   float64\n",
      " 6   Mean Wage                                                                                                                                                                                                                                                       7010 non-null   int64  \n",
      " 7    Median Wage                                                                                                                                                                                                                                                    6923 non-null   float64\n",
      " 8    Entry Wage                                                                                                                                                                                                                                                     7010 non-null   int64  \n",
      " 9    Experienced Wage                                                                                                                                                                                                                                               6919 non-null   float64\n",
      "dtypes: float64(3), int64(4), object(3)\n",
      "memory usage: 547.8+ KB\n"
     ]
    }
   ],
   "source": [
    "oews_ny.info()"
   ]
  },
  {
   "cell_type": "code",
   "execution_count": 12,
   "id": "33f1097c",
   "metadata": {},
   "outputs": [
    {
     "data": {
      "text/plain": [
       "(7010, 10)"
      ]
     },
     "execution_count": 12,
     "metadata": {},
     "output_type": "execute_result"
    }
   ],
   "source": [
    "oews_ny.shape"
   ]
  },
  {
   "cell_type": "code",
   "execution_count": 13,
   "id": "68ecdfbb",
   "metadata": {},
   "outputs": [
    {
     "data": {
      "text/html": [
       "<div>\n",
       "<style scoped>\n",
       "    .dataframe tbody tr th:only-of-type {\n",
       "        vertical-align: middle;\n",
       "    }\n",
       "\n",
       "    .dataframe tbody tr th {\n",
       "        vertical-align: top;\n",
       "    }\n",
       "\n",
       "    .dataframe thead th {\n",
       "        text-align: right;\n",
       "    }\n",
       "</style>\n",
       "<table border=\"1\" class=\"dataframe\">\n",
       "  <thead>\n",
       "    <tr style=\"text-align: right;\">\n",
       "      <th></th>\n",
       "      <th>ID</th>\n",
       "      <th>Year</th>\n",
       "      <th>Area code</th>\n",
       "      <th>Area name</th>\n",
       "      <th>SOC code</th>\n",
       "      <th>Occupational title</th>\n",
       "      <th>Employment</th>\n",
       "      <th>Average wage</th>\n",
       "      <th>25th Percentile</th>\n",
       "      <th>50th Percentile</th>\n",
       "      <th>75th Percentile</th>\n",
       "      <th>Annual wage</th>\n",
       "    </tr>\n",
       "  </thead>\n",
       "  <tbody>\n",
       "    <tr>\n",
       "      <th>0</th>\n",
       "      <td>1</td>\n",
       "      <td>2022</td>\n",
       "      <td>53</td>\n",
       "      <td>Washington</td>\n",
       "      <td>11-1011</td>\n",
       "      <td>Chief Executives</td>\n",
       "      <td>2992.0</td>\n",
       "      <td>134.42</td>\n",
       "      <td>82.20</td>\n",
       "      <td>NaN</td>\n",
       "      <td>NaN</td>\n",
       "      <td>279590.0</td>\n",
       "    </tr>\n",
       "    <tr>\n",
       "      <th>1</th>\n",
       "      <td>2</td>\n",
       "      <td>2022</td>\n",
       "      <td>53</td>\n",
       "      <td>Washington</td>\n",
       "      <td>11-1021</td>\n",
       "      <td>General and Operations Managers</td>\n",
       "      <td>48024.0</td>\n",
       "      <td>64.76</td>\n",
       "      <td>40.08</td>\n",
       "      <td>57.43</td>\n",
       "      <td>78.74</td>\n",
       "      <td>134690.0</td>\n",
       "    </tr>\n",
       "    <tr>\n",
       "      <th>2</th>\n",
       "      <td>3</td>\n",
       "      <td>2022</td>\n",
       "      <td>53</td>\n",
       "      <td>Washington</td>\n",
       "      <td>11-1031</td>\n",
       "      <td>Legislators</td>\n",
       "      <td>1318.0</td>\n",
       "      <td>NaN</td>\n",
       "      <td>NaN</td>\n",
       "      <td>NaN</td>\n",
       "      <td>NaN</td>\n",
       "      <td>119380.0</td>\n",
       "    </tr>\n",
       "    <tr>\n",
       "      <th>3</th>\n",
       "      <td>4</td>\n",
       "      <td>2022</td>\n",
       "      <td>53</td>\n",
       "      <td>Washington</td>\n",
       "      <td>11-2011</td>\n",
       "      <td>Advertising and Promotions Managers</td>\n",
       "      <td>240.0</td>\n",
       "      <td>71.80</td>\n",
       "      <td>58.00</td>\n",
       "      <td>63.59</td>\n",
       "      <td>77.91</td>\n",
       "      <td>149340.0</td>\n",
       "    </tr>\n",
       "    <tr>\n",
       "      <th>4</th>\n",
       "      <td>5</td>\n",
       "      <td>2022</td>\n",
       "      <td>53</td>\n",
       "      <td>Washington</td>\n",
       "      <td>11-2021</td>\n",
       "      <td>Marketing Managers</td>\n",
       "      <td>6621.0</td>\n",
       "      <td>78.38</td>\n",
       "      <td>55.91</td>\n",
       "      <td>73.25</td>\n",
       "      <td>99.20</td>\n",
       "      <td>163040.0</td>\n",
       "    </tr>\n",
       "  </tbody>\n",
       "</table>\n",
       "</div>"
      ],
      "text/plain": [
       "   ID  Year  Area code   Area name SOC code  \\\n",
       "0   1  2022         53  Washington  11-1011   \n",
       "1   2  2022         53  Washington  11-1021   \n",
       "2   3  2022         53  Washington  11-1031   \n",
       "3   4  2022         53  Washington  11-2011   \n",
       "4   5  2022         53  Washington  11-2021   \n",
       "\n",
       "                    Occupational title  Employment  Average wage  \\\n",
       "0                     Chief Executives      2992.0        134.42   \n",
       "1      General and Operations Managers     48024.0         64.76   \n",
       "2                          Legislators      1318.0           NaN   \n",
       "3  Advertising and Promotions Managers       240.0         71.80   \n",
       "4                   Marketing Managers      6621.0         78.38   \n",
       "\n",
       "   25th Percentile  50th Percentile  75th Percentile  Annual wage  \n",
       "0            82.20              NaN              NaN     279590.0  \n",
       "1            40.08            57.43            78.74     134690.0  \n",
       "2              NaN              NaN              NaN     119380.0  \n",
       "3            58.00            63.59            77.91     149340.0  \n",
       "4            55.91            73.25            99.20     163040.0  "
      ]
     },
     "execution_count": 13,
     "metadata": {},
     "output_type": "execute_result"
    }
   ],
   "source": [
    "oews_wa.head()"
   ]
  },
  {
   "cell_type": "code",
   "execution_count": 14,
   "id": "157f948f",
   "metadata": {},
   "outputs": [
    {
     "name": "stdout",
     "output_type": "stream",
     "text": [
      "<class 'pandas.core.frame.DataFrame'>\n",
      "RangeIndex: 6920 entries, 0 to 6919\n",
      "Data columns (total 12 columns):\n",
      " #   Column              Non-Null Count  Dtype  \n",
      "---  ------              --------------  -----  \n",
      " 0   ID                  6920 non-null   int64  \n",
      " 1   Year                6920 non-null   int64  \n",
      " 2   Area code           6920 non-null   int64  \n",
      " 3   Area name           6920 non-null   object \n",
      " 4   SOC code            6920 non-null   object \n",
      " 5   Occupational title  6920 non-null   object \n",
      " 6   Employment          6763 non-null   float64\n",
      " 7   Average wage        6454 non-null   float64\n",
      " 8   25th Percentile     6425 non-null   float64\n",
      " 9   50th Percentile     6379 non-null   float64\n",
      " 10  75th Percentile     6334 non-null   float64\n",
      " 11  Annual wage         6859 non-null   float64\n",
      "dtypes: float64(6), int64(3), object(3)\n",
      "memory usage: 648.9+ KB\n"
     ]
    }
   ],
   "source": [
    "oews_wa.info()"
   ]
  },
  {
   "cell_type": "code",
   "execution_count": 15,
   "id": "8ada6377",
   "metadata": {},
   "outputs": [
    {
     "data": {
      "text/plain": [
       "(6920, 12)"
      ]
     },
     "execution_count": 15,
     "metadata": {},
     "output_type": "execute_result"
    }
   ],
   "source": [
    "oews_wa.shape"
   ]
  },
  {
   "cell_type": "code",
   "execution_count": 8,
   "id": "0fa3f7a7",
   "metadata": {},
   "outputs": [
    {
     "name": "stderr",
     "output_type": "stream",
     "text": [
      "C:\\Users\\sarah\\anaconda3\\Lib\\site-packages\\seaborn\\_oldcore.py:1119: FutureWarning: use_inf_as_na option is deprecated and will be removed in a future version. Convert inf values to NaN before operating instead.\n",
      "  with pd.option_context('mode.use_inf_as_na', True):\n"
     ]
    },
    {
     "data": {
      "image/png": "[encoded data removed]",
      "text/plain": [
       "<Figure size 640x480 with 1 Axes>"
      ]
     },
     "metadata": {},
     "output_type": "display_data"
    }
   ],
   "source": [
    "sns.histplot(data=oews_ca, x=\"Mean Wage\", binwidth=5, color='magenta')\n",
    "plt.xlim(0, 150)\n",
    "plt.title('Distribution of Mean Wages (California)')\n",
    "plt.xlabel('Wages (Thousands)')\n",
    "plt.ylabel('Count of Jobs')\n",
    "plt.show()"
   ]
  },
  {
   "cell_type": "code",
   "execution_count": 19,
   "id": "cd07ccc9",
   "metadata": {},
   "outputs": [
    {
     "name": "stderr",
     "output_type": "stream",
     "text": [
      "C:\\Users\\sarah\\anaconda3\\Lib\\site-packages\\seaborn\\_oldcore.py:1119: FutureWarning: use_inf_as_na option is deprecated and will be removed in a future version. Convert inf values to NaN before operating instead.\n",
      "  with pd.option_context('mode.use_inf_as_na', True):\n",
      "C:\\Users\\sarah\\anaconda3\\Lib\\site-packages\\seaborn\\_oldcore.py:1119: FutureWarning: use_inf_as_na option is deprecated and will be removed in a future version. Convert inf values to NaN before operating instead.\n",
      "  with pd.option_context('mode.use_inf_as_na', True):\n"
     ]
    },
    {
     "data": {
      "image/png": "[encoded data removed]",
      "text/plain": [
       "<Figure size 640x480 with 1 Axes>"
      ]
     },
     "metadata": {},
     "output_type": "display_data"
    }
   ],
   "source": [
    "sns.lineplot(data=oews_ca, x=\"Number of Employed\", y=\"Mean Wage\", color='mediumslateblue')\n",
    "plt.show()"
   ]
  },
  {
   "cell_type": "code",
   "execution_count": null,
   "id": "5c6fbfdc",
   "metadata": {},
   "outputs": [],
   "source": []
  }
 ],
 "metadata": {
  "kernelspec": {
   "display_name": "Python 3 (ipykernel)",
   "language": "python",
   "name": "python3"
  },
  "language_info": {
   "codemirror_mode": {
    "name": "ipython",
    "version": 3
   },
   "file_extension": ".py",
   "mimetype": "text/x-python",
   "name": "python",
   "nbconvert_exporter": "python",
   "pygments_lexer": "ipython3",
   "version": "3.11.7"
  }
 },
 "nbformat": 4,
 "nbformat_minor": 5
}
